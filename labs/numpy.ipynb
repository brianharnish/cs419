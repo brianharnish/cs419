{
  "nbformat": 4,
  "nbformat_minor": 0,
  "metadata": {
    "anaconda-cloud": {},
    "kernelspec": {
      "display_name": "Python 3",
      "language": "python",
      "name": "python3"
    },
    "language_info": {
      "codemirror_mode": {
        "name": "ipython",
        "version": 3
      },
      "file_extension": ".py",
      "mimetype": "text/x-python",
      "name": "python",
      "nbconvert_exporter": "python",
      "pygments_lexer": "ipython3",
      "version": "3.8.3"
    },
    "colab": {
      "name": "Copy of numpy.ipynb",
      "provenance": [],
      "include_colab_link": true
    }
  },
  "cells": [
    {
      "cell_type": "markdown",
      "metadata": {
        "id": "view-in-github",
        "colab_type": "text"
      },
      "source": [
        "<a href=\"https://colab.research.google.com/github/brianharnish/cs419/blob/master/labs/numpy.ipynb\" target=\"_parent\"><img src=\"https://colab.research.google.com/assets/colab-badge.svg\" alt=\"Open In Colab\"/></a>"
      ]
    },
    {
      "cell_type": "markdown",
      "metadata": {
        "id": "YvO58iCw4TPP",
        "colab_type": "text"
      },
      "source": [
        "# Task 1: Getting started with Numpy\n",
        "\n",
        "Let's spend a few minutes just learning some of the fundamentals of Numpy. (pronounced as num-pie **not num-pee**) \n",
        "\n",
        "### what is numpy\n",
        "Numpy is a Python library that support large, multi-dimensional arrays and matrices. \n",
        "\n",
        "Let's look at an example. Suppose we start with a little table:\n",
        "\n",
        "| a  | b | c  |  d | e |\n",
        "| :---: | :---: | :---: | :---: | :---: |\n",
        "| 0 | 1 | 2 | 3 | 4 |\n",
        "|10| 11| 12 | 13 | 14|\n",
        "|20| 21 | 22 | 23 | 24 |\n",
        "|30 | 31 | 32 | 33 | 34 |\n",
        "|40 |41 | 42 | 43 | 44 |\n",
        "\n",
        "and I simply want to add 10 to each cell:\n",
        "\n",
        "| a  | b | c  |  d | e |\n",
        "| :---: | :---: | :---: | :---: | :---: |\n",
        "| 10 | 11 | 12 | 13 | 14 |\n",
        "|20| 21| 22 | 23 | 24|\n",
        "|30| 31 | 32 | 33 | 34 |\n",
        "|40 | 41 | 42 | 43 | 44 |\n",
        "|50 |51 | 52 | 53 | 54 |\n",
        "\n",
        "To make things interesting, instead of a a 5 x5 array, let's make it 1,000x1,000 -- so 1 million cells!\n",
        "\n",
        "First, let's construct it in generic Python"
      ]
    },
    {
      "cell_type": "code",
      "metadata": {
        "id": "bOUNkVx_4TPS",
        "colab_type": "code",
        "colab": {}
      },
      "source": [
        "a = [[x + y * 1000 for x in range(1000)] for y in range(1000)]\n"
      ],
      "execution_count": null,
      "outputs": []
    },
    {
      "cell_type": "markdown",
      "metadata": {
        "id": "2amye7sC4TPc",
        "colab_type": "text"
      },
      "source": [
        "Instead of glossing over the first code example in the course, take your time, go back, and parse it out so you understand it. Test it out and see what it looks like. For example, how would you change the example to make a 10x10 array called `a2`? execute the code here:"
      ]
    },
    {
      "cell_type": "code",
      "metadata": {
        "id": "OtiM1QDa4TPh",
        "colab_type": "code",
        "colab": {}
      },
      "source": [
        "# TO DO\n",
        "a2 = [[x+y*10 for x in range(10)] for y in range(10)]"
      ],
      "execution_count": null,
      "outputs": []
    },
    {
      "cell_type": "markdown",
      "metadata": {
        "id": "ZeolqblL4TPo",
        "colab_type": "text"
      },
      "source": [
        "Now let's take a look at the value of a2:"
      ]
    },
    {
      "cell_type": "code",
      "metadata": {
        "id": "VEqna78i4TPp",
        "colab_type": "code",
        "colab": {
          "base_uri": "https://localhost:8080/",
          "height": 191
        },
        "outputId": "8e69a4d7-bc34-46c8-9c50-d2dfcb0c0f99"
      },
      "source": [
        "a2"
      ],
      "execution_count": null,
      "outputs": [
        {
          "output_type": "execute_result",
          "data": {
            "text/plain": [
              "[[0, 1, 2, 3, 4, 5, 6, 7, 8, 9],\n",
              " [10, 11, 12, 13, 14, 15, 16, 17, 18, 19],\n",
              " [20, 21, 22, 23, 24, 25, 26, 27, 28, 29],\n",
              " [30, 31, 32, 33, 34, 35, 36, 37, 38, 39],\n",
              " [40, 41, 42, 43, 44, 45, 46, 47, 48, 49],\n",
              " [50, 51, 52, 53, 54, 55, 56, 57, 58, 59],\n",
              " [60, 61, 62, 63, 64, 65, 66, 67, 68, 69],\n",
              " [70, 71, 72, 73, 74, 75, 76, 77, 78, 79],\n",
              " [80, 81, 82, 83, 84, 85, 86, 87, 88, 89],\n",
              " [90, 91, 92, 93, 94, 95, 96, 97, 98, 99]]"
            ]
          },
          "metadata": {
            "tags": []
          },
          "execution_count": 5
        }
      ]
    },
    {
      "cell_type": "markdown",
      "metadata": {
        "id": "RhHHAQfX4TPy",
        "colab_type": "text"
      },
      "source": [
        "Now that we understand that line of code let's go on and write a function that will add 10 to each cell in our original 1000x1000 matrix.\n"
      ]
    },
    {
      "cell_type": "code",
      "metadata": {
        "id": "5gpmU08i4TPz",
        "colab_type": "code",
        "colab": {}
      },
      "source": [
        "def addToArr(sizeof):\n",
        "    for i in range(sizeof):\n",
        "        for j in range(sizeof):\n",
        "            a[i][j] = a[i][j] + 10\n"
      ],
      "execution_count": null,
      "outputs": []
    },
    {
      "cell_type": "markdown",
      "metadata": {
        "id": "elSN3EHX4TP4",
        "colab_type": "text"
      },
      "source": [
        "As you can see, we iterate over the array with nested for loops. \n",
        "\n",
        "Let's take a look at how much time it takes to run that function:"
      ]
    },
    {
      "cell_type": "code",
      "metadata": {
        "id": "y3r-2u6s4TP6",
        "colab_type": "code",
        "colab": {
          "base_uri": "https://localhost:8080/",
          "height": 52
        },
        "outputId": "eb9243d4-f6f6-4efe-8a22-c315717fb7c0"
      },
      "source": [
        "%time addToArr(1000)"
      ],
      "execution_count": null,
      "outputs": [
        {
          "output_type": "stream",
          "text": [
            "CPU times: user 136 ms, sys: 11.7 ms, total: 147 ms\n",
            "Wall time: 149 ms\n"
          ],
          "name": "stdout"
        }
      ]
    },
    {
      "cell_type": "markdown",
      "metadata": {
        "id": "twm-NSBX4TQB",
        "colab_type": "text"
      },
      "source": [
        "My results were:\n",
        "\n",
        "    CPU times: user 145 ms, sys: 0 ns, total: 145 ms\n",
        "    Wall time: 143 ms\n",
        "\n",
        "So about 1/7 of a second. \n",
        "\n",
        "### Doing in using Numpy\n",
        "Now do the same using Numpy.\n",
        "\n",
        "\n",
        "We can construct the array using\n",
        "    \n",
        "    arr = np.arange(1000000).reshape((1000,1000))\n",
        "\n",
        "Not sure what that line does? Numpy has great online documentation. [Documentation for np.arange](https://numpy.org/doc/stable/reference/generated/numpy.arange.html) says it \"Return evenly spaced values within a given interval.\" Let's try it out:"
      ]
    },
    {
      "cell_type": "code",
      "metadata": {
        "id": "Krgo71yk4TQD",
        "colab_type": "code",
        "colab": {
          "base_uri": "https://localhost:8080/",
          "height": 34
        },
        "outputId": "430c0ce4-86c9-4ac7-8d29-f41ad853da39"
      },
      "source": [
        "import numpy as np\n",
        "np.arange(16)"
      ],
      "execution_count": null,
      "outputs": [
        {
          "output_type": "execute_result",
          "data": {
            "text/plain": [
              "array([ 0,  1,  2,  3,  4,  5,  6,  7,  8,  9, 10, 11, 12, 13, 14, 15])"
            ]
          },
          "metadata": {
            "tags": []
          },
          "execution_count": 9
        }
      ]
    },
    {
      "cell_type": "markdown",
      "metadata": {
        "id": "_Lcf7q9E4TQH",
        "colab_type": "text"
      },
      "source": [
        "So `np.arange(10)` creates a matrix of 16 sequential integers. [The documentation for reshape](https://numpy.org/doc/1.18/reference/generated/numpy.reshape.html) says, as the name suggests, \"Gives a new shape to an array without changing its data.\"  Suppose we want to reshape our 1 dimensional matrix of 16 integers to a 4x4 one. we can do:"
      ]
    },
    {
      "cell_type": "code",
      "metadata": {
        "id": "SQ32mDwJ4TQI",
        "colab_type": "code",
        "colab": {},
        "outputId": "bf566205-409d-49ff-a66d-a1e2cc527f75"
      },
      "source": [
        "np.arange(16).reshape((4,4))"
      ],
      "execution_count": null,
      "outputs": [
        {
          "output_type": "execute_result",
          "data": {
            "text/plain": [
              "array([[ 0,  1,  2,  3],\n",
              "       [ 4,  5,  6,  7],\n",
              "       [ 8,  9, 10, 11],\n",
              "       [12, 13, 14, 15]])"
            ]
          },
          "metadata": {
            "tags": []
          },
          "execution_count": 13
        }
      ]
    },
    {
      "cell_type": "markdown",
      "metadata": {
        "id": "C0f7qK3h4TQM",
        "colab_type": "text"
      },
      "source": [
        "As you can see it is pretty easy to find documentation on Numpy.\n",
        "\n",
        "Back to our example of creating a 1000x1000 matrix, we now can time how long it takes to add 10 to each cell.\n",
        "\n",
        "    %time arr = arr + 10\n",
        "    \n",
        "Let's put this all together:"
      ]
    },
    {
      "cell_type": "code",
      "metadata": {
        "id": "84avQwMW4TQO",
        "colab_type": "code",
        "colab": {
          "base_uri": "https://localhost:8080/",
          "height": 52
        },
        "outputId": "e49985dc-6b7f-4383-a649-8aa83c750c4e"
      },
      "source": [
        "import numpy as np\n",
        "arr = np.arange(1000000).reshape((1000,1000))\n",
        "%time arr = arr + 10"
      ],
      "execution_count": null,
      "outputs": [
        {
          "output_type": "stream",
          "text": [
            "CPU times: user 2.28 ms, sys: 54 µs, total: 2.33 ms\n",
            "Wall time: 6.99 ms\n"
          ],
          "name": "stdout"
        }
      ]
    },
    {
      "cell_type": "markdown",
      "metadata": {
        "id": "Ra0pa57n4TQS",
        "colab_type": "text"
      },
      "source": [
        "My results were\n",
        "\n",
        "    CPU times: user 1.26 ms, sys: 408 µs, total: 1.67 ms\n",
        "    Wall time: 1.68 ms\n",
        "\n",
        "So, depending on your computer, somewhere around 25 to 100 times faster. **That is phenomenally faster!**\n",
        "\n",
        "And Numpy is even fast in creating arrays:\n",
        "\n",
        "#### the generic Python way"
      ]
    },
    {
      "cell_type": "code",
      "metadata": {
        "id": "TOELtDP84TQT",
        "colab_type": "code",
        "colab": {
          "base_uri": "https://localhost:8080/",
          "height": 52
        },
        "outputId": "6514125f-b6ff-41d3-c687-7926591266ba"
      },
      "source": [
        "a = [[x + y * 1000 for x in range(1000)] for y in range(1000)]\n"
      ],
      "execution_count": null,
      "outputs": [
        {
          "output_type": "stream",
          "text": [
            "CPU times: user 137 ms, sys: 0 ns, total: 137 ms\n",
            "Wall time: 137 ms\n"
          ],
          "name": "stdout"
        }
      ]
    },
    {
      "cell_type": "markdown",
      "metadata": {
        "id": "DMl0Y4HM4TQY",
        "colab_type": "text"
      },
      "source": [
        "My results were\n",
        "\n",
        "    CPU times: user 92.1 ms, sys: 11.5 ms, total: 104 ms\n",
        "    Wall time: 102 ms\n",
        "\n",
        "#### the Numpy way"
      ]
    },
    {
      "cell_type": "code",
      "metadata": {
        "id": "4-iE5DlZ4TQZ",
        "colab_type": "code",
        "colab": {
          "base_uri": "https://localhost:8080/",
          "height": 52
        },
        "outputId": "c49cefdc-9f9d-4f6b-fb3d-221c2dd347ec"
      },
      "source": [
        "%time arr = np.arange(1000000).reshape((1000,1000))"
      ],
      "execution_count": null,
      "outputs": [
        {
          "output_type": "stream",
          "text": [
            "CPU times: user 1.79 ms, sys: 4.98 ms, total: 6.77 ms\n",
            "Wall time: 8.86 ms\n"
          ],
          "name": "stdout"
        }
      ]
    },
    {
      "cell_type": "markdown",
      "metadata": {
        "id": "XDxa7Z6X4TQd",
        "colab_type": "text"
      },
      "source": [
        "What are your results?\n",
        "\n",
        "Numpy:\n",
        "\n",
        "CPU times: user 3.71 ms, sys: 3.91 ms, total: 7.61 ms\n",
        "\n",
        "Wall time: 10 ms\n",
        "\n",
        "Generic Python: \n",
        "\n",
        "CPU times: user 126 ms, sys: 15 ms, total: 141 ms\n",
        "Wall time: 142 ms\n",
        "\n",
        "<h3 style=\"color:red\">Q1. Speed</h3>\n",
        "<span style=\"color:red\">Suppose I want to create an array with 10,000 by 10,000 cells. Then I want to add 1 to each cell. How much time does this take using generic Python arrays and using Numpy arrays?</span>\n",
        "\n",
        "Generic:\n",
        "\n",
        "CPU times: user 130 ms, sys: 38 µs, total: 130 ms\n",
        "Wall time: 130 ms\n",
        "\n",
        "Numpy: \n",
        "\n",
        "CPU times: user 113 ms, sys: 145 ms, total: 258 ms\n",
        "Wall time: 258 ms\n",
        "\n",
        "#### in Python\n",
        "(be patient -- this may take a number of seconds)"
      ]
    },
    {
      "cell_type": "code",
      "metadata": {
        "id": "C_D7y0x74TQf",
        "colab_type": "code",
        "colab": {
          "base_uri": "https://localhost:8080/",
          "height": 52
        },
        "outputId": "91eaea20-1a87-419c-b6bc-3d945a9f1330"
      },
      "source": [
        "myarr = [[x + y * 10000 for x in range(10000)] for y in range(10000)]\n",
        "def add1():\n",
        "  for i in range(1000):\n",
        "    for j in range(1000):\n",
        "      myarr[i][j] = myarr[i][j] + 1\n",
        "%time add1()"
      ],
      "execution_count": null,
      "outputs": [
        {
          "output_type": "stream",
          "text": [
            "CPU times: user 130 ms, sys: 38 µs, total: 130 ms\n",
            "Wall time: 130 ms\n"
          ],
          "name": "stdout"
        }
      ]
    },
    {
      "cell_type": "markdown",
      "metadata": {
        "id": "W1jZKJUL4TQk",
        "colab_type": "text"
      },
      "source": [
        "#### in Numpy"
      ]
    },
    {
      "cell_type": "code",
      "metadata": {
        "id": "iSU6YNlp4TQl",
        "colab_type": "code",
        "colab": {
          "base_uri": "https://localhost:8080/",
          "height": 278
        },
        "outputId": "6a6dea22-51c7-4418-d3a6-ded8e97a2277"
      },
      "source": [
        "import numpy as np\n",
        "mynumarr = np.arange(100000000).reshape(10000, 10000)\n",
        "%time mynumarr + 1"
      ],
      "execution_count": null,
      "outputs": [
        {
          "output_type": "stream",
          "text": [
            "CPU times: user 113 ms, sys: 145 ms, total: 258 ms\n",
            "Wall time: 258 ms\n"
          ],
          "name": "stdout"
        },
        {
          "output_type": "execute_result",
          "data": {
            "text/plain": [
              "array([[        1,         2,         3, ...,      9998,      9999,\n",
              "            10000],\n",
              "       [    10001,     10002,     10003, ...,     19998,     19999,\n",
              "            20000],\n",
              "       [    20001,     20002,     20003, ...,     29998,     29999,\n",
              "            30000],\n",
              "       ...,\n",
              "       [ 99970001,  99970002,  99970003, ...,  99979998,  99979999,\n",
              "         99980000],\n",
              "       [ 99980001,  99980002,  99980003, ...,  99989998,  99989999,\n",
              "         99990000],\n",
              "       [ 99990001,  99990002,  99990003, ...,  99999998,  99999999,\n",
              "        100000000]])"
            ]
          },
          "metadata": {
            "tags": []
          },
          "execution_count": 5
        }
      ]
    },
    {
      "cell_type": "markdown",
      "metadata": {
        "id": "GjCE-F5y4TQo",
        "colab_type": "text"
      },
      "source": [
        "### built in functions\n",
        "In addition to being faster, numpy has a wide range of built in functions. So, for example, instead of you writing code to calculate the mean or sum or standard deviation of a multidimensional array you can just use numpy:"
      ]
    },
    {
      "cell_type": "code",
      "metadata": {
        "id": "fUzv0jTh4TQq",
        "colab_type": "code",
        "colab": {
          "base_uri": "https://localhost:8080/",
          "height": 34
        },
        "outputId": "b2fe6882-a315-42af-899c-84fc5406af38"
      },
      "source": [
        "arr.mean()"
      ],
      "execution_count": null,
      "outputs": [
        {
          "output_type": "execute_result",
          "data": {
            "text/plain": [
              "499999.5"
            ]
          },
          "metadata": {
            "tags": []
          },
          "execution_count": 9
        }
      ]
    },
    {
      "cell_type": "code",
      "metadata": {
        "id": "r6-nikNe4TQv",
        "colab_type": "code",
        "colab": {
          "base_uri": "https://localhost:8080/",
          "height": 34
        },
        "outputId": "ab813f9d-5783-4f65-88a6-832d4f059a80"
      },
      "source": [
        "arr.sum()"
      ],
      "execution_count": null,
      "outputs": [
        {
          "output_type": "execute_result",
          "data": {
            "text/plain": [
              "499999500000"
            ]
          },
          "metadata": {
            "tags": []
          },
          "execution_count": 10
        }
      ]
    },
    {
      "cell_type": "code",
      "metadata": {
        "id": "ulfgOIgg4TQz",
        "colab_type": "code",
        "colab": {
          "base_uri": "https://localhost:8080/",
          "height": 34
        },
        "outputId": "98db7fe6-850b-4bbe-fff9-ace443696b37"
      },
      "source": [
        " arr.std()"
      ],
      "execution_count": null,
      "outputs": [
        {
          "output_type": "execute_result",
          "data": {
            "text/plain": [
              "288675.1345946685"
            ]
          },
          "metadata": {
            "tags": []
          },
          "execution_count": 11
        }
      ]
    },
    {
      "cell_type": "markdown",
      "metadata": {
        "id": "0WlMOYYk4TQ2",
        "colab_type": "text"
      },
      "source": [
        "So not only is it faster, but it minimizes the code you have to write. A win, win.\n",
        "\n",
        "Let's continue with some basics."
      ]
    },
    {
      "cell_type": "markdown",
      "metadata": {
        "id": "jZnlcChn4TQ2",
        "colab_type": "text"
      },
      "source": [
        "## numpy examined \n",
        "So Numpy is a library containing a super-fast n-dimensional array object and a load of functions that can operate on those arrays. To use numpy, we must first load the library into our code and we do that with the statement:\n"
      ]
    },
    {
      "cell_type": "code",
      "metadata": {
        "id": "fW2RTY1W4TQ3",
        "colab_type": "code",
        "colab": {}
      },
      "source": [
        " import numpy as np"
      ],
      "execution_count": null,
      "outputs": []
    },
    {
      "cell_type": "markdown",
      "metadata": {
        "id": "53eEfdFZ4TQ8",
        "colab_type": "text"
      },
      "source": [
        "Perhaps most of you are saying \"fine, fine, I know this already\", but let me catch others up to speed. This is just one of several ways we can load a library into Python. We could just say:"
      ]
    },
    {
      "cell_type": "code",
      "metadata": {
        "id": "W8sO13A34TQ8",
        "colab_type": "code",
        "colab": {}
      },
      "source": [
        " import numpy"
      ],
      "execution_count": null,
      "outputs": []
    },
    {
      "cell_type": "markdown",
      "metadata": {
        "id": "pu8CdMNM4TRB",
        "colab_type": "text"
      },
      "source": [
        "and everytime we need to use one of the functions built in\n",
        "to numpy we would need to preface that function with `numpy` . So for example, we could create an array with\n"
      ]
    },
    {
      "cell_type": "code",
      "metadata": {
        "id": "MbLgi6YH4TRC",
        "colab_type": "code",
        "colab": {}
      },
      "source": [
        "arr = numpy.array([1, 2, 3, 4, 5])"
      ],
      "execution_count": null,
      "outputs": []
    },
    {
      "cell_type": "markdown",
      "metadata": {
        "id": "KaBdiuoW4TRF",
        "colab_type": "text"
      },
      "source": [
        "If we got tired of writing `numpy` in front of every function, instead of typing"
      ]
    },
    {
      "cell_type": "code",
      "metadata": {
        "id": "pGIi5emZ4TRG",
        "colab_type": "code",
        "colab": {}
      },
      "source": [
        "import numpy"
      ],
      "execution_count": null,
      "outputs": []
    },
    {
      "cell_type": "markdown",
      "metadata": {
        "id": "Ncjnn2Ao4TRJ",
        "colab_type": "text"
      },
      "source": [
        "we could write:"
      ]
    },
    {
      "cell_type": "code",
      "metadata": {
        "id": "IALtX00-4TRK",
        "colab_type": "code",
        "colab": {}
      },
      "source": [
        "from numpy import *"
      ],
      "execution_count": null,
      "outputs": []
    },
    {
      "cell_type": "markdown",
      "metadata": {
        "id": "bwu36h8i4TRN",
        "colab_type": "text"
      },
      "source": [
        "(where that * means 'everything' and the whole expression means import everything from the numpy library).  Now we can use any numpy function without putting numpy in front of it:"
      ]
    },
    {
      "cell_type": "code",
      "metadata": {
        "id": "S83oF-1-4TRP",
        "colab_type": "code",
        "colab": {}
      },
      "source": [
        "arr = array([1, 2, 3, 4, 5])"
      ],
      "execution_count": null,
      "outputs": []
    },
    {
      "cell_type": "markdown",
      "metadata": {
        "id": "2_bpFnDE4TRT",
        "colab_type": "text"
      },
      "source": [
        "This may at first seem like a good idea, but it is considered bad form by Python developers. \n",
        "\n",
        "The solution is to use what we initially introduced:"
      ]
    },
    {
      "cell_type": "code",
      "metadata": {
        "id": "FjTtg3O_4TRX",
        "colab_type": "code",
        "colab": {}
      },
      "source": [
        " import numpy as np"
      ],
      "execution_count": null,
      "outputs": []
    },
    {
      "cell_type": "markdown",
      "metadata": {
        "id": "CmjMNqb14TRa",
        "colab_type": "text"
      },
      "source": [
        "this makes `np` an alias for numpy. so now we would put *np* in front of numpy functions."
      ]
    },
    {
      "cell_type": "code",
      "metadata": {
        "id": "-jNFkV-w4TRa",
        "colab_type": "code",
        "colab": {}
      },
      "source": [
        " arr = np.array([1, 2, 3, 4, 5])"
      ],
      "execution_count": null,
      "outputs": []
    },
    {
      "cell_type": "markdown",
      "metadata": {
        "id": "NtdEAUyL4TRe",
        "colab_type": "text"
      },
      "source": [
        "Of course we could use anything as an alias for numpy:"
      ]
    },
    {
      "cell_type": "code",
      "metadata": {
        "id": "bF5v-uqM4TRe",
        "colab_type": "code",
        "colab": {}
      },
      "source": [
        "import numpy as myCoolSneakers\n",
        "arr = myCoolSneakers.array([1, 2, 3, 4, 5])\n"
      ],
      "execution_count": null,
      "outputs": []
    },
    {
      "cell_type": "markdown",
      "metadata": {
        "id": "YYedz6yd4TRk",
        "colab_type": "text"
      },
      "source": [
        "But it is convention among data scientists, machine learning experts, and the cool kids to use np.  One big benefit of this convention is that it makes the code you write more understandable to others and vice versa (I don't need to be scouring your code to find out what `myCoolSneakers.array` does)\n",
        "\n",
        "## creating arrays\n",
        "\n",
        "An Array in Numpy is called an `ndarray` for n-dimensional array.  As we will see, they share some similarities with Python lists. We have already seen how to create one:"
      ]
    },
    {
      "cell_type": "code",
      "metadata": {
        "id": "f5nIOXRf4TRk",
        "colab_type": "code",
        "colab": {}
      },
      "source": [
        "arr = np.array([1, 2, 3, 4, 5])"
      ],
      "execution_count": null,
      "outputs": []
    },
    {
      "cell_type": "markdown",
      "metadata": {
        "id": "4LkPC3b04TRn",
        "colab_type": "text"
      },
      "source": [
        "and to display what `arr` equals"
      ]
    },
    {
      "cell_type": "code",
      "metadata": {
        "id": "InCZXCnc4TRo",
        "colab_type": "code",
        "colab": {
          "base_uri": "https://localhost:8080/",
          "height": 34
        },
        "outputId": "a97fa890-ac0c-41f4-f6df-53804bc48153"
      },
      "source": [
        "arr"
      ],
      "execution_count": null,
      "outputs": [
        {
          "output_type": "execute_result",
          "data": {
            "text/plain": [
              "array([1, 2, 3, 4, 5])"
            ]
          },
          "metadata": {
            "tags": []
          },
          "execution_count": 23
        }
      ]
    },
    {
      "cell_type": "markdown",
      "metadata": {
        "id": "myMAwh-W4TRq",
        "colab_type": "text"
      },
      "source": [
        "This is a one dimensional array. The position of an element in the array is called the index. The first element of the array is at index 0, the next at index 1 and so on. We can get the item at a particular index by using the syntax:"
      ]
    },
    {
      "cell_type": "code",
      "metadata": {
        "id": "KLqDsLhc4TRr",
        "colab_type": "code",
        "colab": {
          "base_uri": "https://localhost:8080/",
          "height": 34
        },
        "outputId": "e582eefd-2e18-46ff-c1e0-e0c56ec147dc"
      },
      "source": [
        " arr[0]"
      ],
      "execution_count": null,
      "outputs": [
        {
          "output_type": "execute_result",
          "data": {
            "text/plain": [
              "1"
            ]
          },
          "metadata": {
            "tags": []
          },
          "execution_count": 24
        }
      ]
    },
    {
      "cell_type": "code",
      "metadata": {
        "id": "-WUzfMUY4TRv",
        "colab_type": "code",
        "colab": {
          "base_uri": "https://localhost:8080/",
          "height": 34
        },
        "outputId": "62f78088-35d6-4253-d0fa-86d8aa3b4263"
      },
      "source": [
        "arr[3]"
      ],
      "execution_count": null,
      "outputs": [
        {
          "output_type": "execute_result",
          "data": {
            "text/plain": [
              "4"
            ]
          },
          "metadata": {
            "tags": []
          },
          "execution_count": 25
        }
      ]
    },
    {
      "cell_type": "markdown",
      "metadata": {
        "id": "Pqa7Yo0T4TRy",
        "colab_type": "text"
      },
      "source": [
        "We can create a 2 dimensional array that looks like\n",
        "\n",
        "      10  20  30\n",
        "      40  50  60\n",
        " \n",
        "by:\n"
      ]
    },
    {
      "cell_type": "code",
      "metadata": {
        "id": "sHK2VoXj4TR0",
        "colab_type": "code",
        "colab": {}
      },
      "source": [
        " arr = np.array([[10, 20, 30], [40, 50, 60]])"
      ],
      "execution_count": null,
      "outputs": []
    },
    {
      "cell_type": "markdown",
      "metadata": {
        "id": "It-VOMHo4TR4",
        "colab_type": "text"
      },
      "source": [
        "and we can show the contents of that array just be using the name of the array, `arr`\n"
      ]
    },
    {
      "cell_type": "code",
      "metadata": {
        "id": "W3UXV2x84TR5",
        "colab_type": "code",
        "colab": {
          "base_uri": "https://localhost:8080/",
          "height": 52
        },
        "outputId": "3b00e098-156a-484b-a5aa-c0e0b2e8dd42"
      },
      "source": [
        "arr"
      ],
      "execution_count": null,
      "outputs": [
        {
          "output_type": "execute_result",
          "data": {
            "text/plain": [
              "array([[10, 20, 30],\n",
              "       [40, 50, 60]])"
            ]
          },
          "metadata": {
            "tags": []
          },
          "execution_count": 27
        }
      ]
    },
    {
      "cell_type": "markdown",
      "metadata": {
        "id": "UGJ8fTqs4TR8",
        "colab_type": "text"
      },
      "source": [
        "We don't need to name arrays `arr`, we can name them anything we want. "
      ]
    },
    {
      "cell_type": "code",
      "metadata": {
        "id": "moKih7Bt4TR8",
        "colab_type": "code",
        "colab": {}
      },
      "source": [
        "ratings = np.array([[1, 2, 3], [4, 5, 6], [7, 8, 9]])"
      ],
      "execution_count": null,
      "outputs": []
    },
    {
      "cell_type": "code",
      "metadata": {
        "id": "ME_P6Ybn4TR-",
        "colab_type": "code",
        "colab": {
          "base_uri": "https://localhost:8080/",
          "height": 69
        },
        "outputId": "961ae54f-ef97-44bb-e396-9b6e6c972406"
      },
      "source": [
        "ratings"
      ],
      "execution_count": null,
      "outputs": [
        {
          "output_type": "execute_result",
          "data": {
            "text/plain": [
              "array([[1, 2, 3],\n",
              "       [4, 5, 6],\n",
              "       [7, 8, 9]])"
            ]
          },
          "metadata": {
            "tags": []
          },
          "execution_count": 29
        }
      ]
    },
    {
      "cell_type": "markdown",
      "metadata": {
        "id": "fIxNUHtk4TSB",
        "colab_type": "text"
      },
      "source": [
        "So far, we've been creating numpy arrays by using Python lists. We can make that more explicit by first creating the Python list and then using it to create the ndarray:"
      ]
    },
    {
      "cell_type": "code",
      "metadata": {
        "id": "CYITcR2K4TSB",
        "colab_type": "code",
        "colab": {
          "base_uri": "https://localhost:8080/",
          "height": 52
        },
        "outputId": "5a4cbafd-dcd2-4451-f283-f0f4bc350c86"
      },
      "source": [
        "pythonArray = [[1, 2, 3, 4, 5], [6, 7, 8, 9, 10]]\n",
        "sweet = np.array(pythonArray)\n",
        "sweet"
      ],
      "execution_count": null,
      "outputs": [
        {
          "output_type": "execute_result",
          "data": {
            "text/plain": [
              "array([[ 1,  2,  3,  4,  5],\n",
              "       [ 6,  7,  8,  9, 10]])"
            ]
          },
          "metadata": {
            "tags": []
          },
          "execution_count": 30
        }
      ]
    },
    {
      "cell_type": "markdown",
      "metadata": {
        "id": "0239ShCk4TSE",
        "colab_type": "text"
      },
      "source": [
        "We can also create an array of all zeros or all ones directly:"
      ]
    },
    {
      "cell_type": "code",
      "metadata": {
        "id": "ja4ltbWN4TSE",
        "colab_type": "code",
        "colab": {
          "base_uri": "https://localhost:8080/",
          "height": 34
        },
        "outputId": "af0159ed-cc53-4aab-9a00-d79847d4ec39"
      },
      "source": [
        "np.zeros(10)"
      ],
      "execution_count": null,
      "outputs": [
        {
          "output_type": "execute_result",
          "data": {
            "text/plain": [
              "array([0., 0., 0., 0., 0., 0., 0., 0., 0., 0.])"
            ]
          },
          "metadata": {
            "tags": []
          },
          "execution_count": 31
        }
      ]
    },
    {
      "cell_type": "code",
      "metadata": {
        "id": "gdyXwLXV4TSH",
        "colab_type": "code",
        "colab": {
          "base_uri": "https://localhost:8080/",
          "height": 104
        },
        "outputId": "1e53d695-5a5c-4f3b-a959-cd2b5cc5edea"
      },
      "source": [
        "np.ones((5, 2))"
      ],
      "execution_count": null,
      "outputs": [
        {
          "output_type": "execute_result",
          "data": {
            "text/plain": [
              "array([[1., 1.],\n",
              "       [1., 1.],\n",
              "       [1., 1.],\n",
              "       [1., 1.],\n",
              "       [1., 1.]])"
            ]
          },
          "metadata": {
            "tags": []
          },
          "execution_count": 32
        }
      ]
    },
    {
      "cell_type": "markdown",
      "metadata": {
        "id": "X6ENzXd-4TSK",
        "colab_type": "text"
      },
      "source": [
        "### indexing\n",
        "Indexing elements in ndarrays works pretty much the same as it does in Python. We have already seen one example, here is another example with a one dimensional array:\n"
      ]
    },
    {
      "cell_type": "code",
      "metadata": {
        "id": "pWhOVXjZ4TSK",
        "colab_type": "code",
        "colab": {
          "base_uri": "https://localhost:8080/",
          "height": 34
        },
        "outputId": "c7482e9a-33c7-4cff-dd35-4bf522e1adcd"
      },
      "source": [
        "temperatures = np.array([48, 44, 37, 35, 32, 29, 33, 36, 42])\n",
        "temperatures[0]"
      ],
      "execution_count": null,
      "outputs": [
        {
          "output_type": "execute_result",
          "data": {
            "text/plain": [
              "48"
            ]
          },
          "metadata": {
            "tags": []
          },
          "execution_count": 33
        }
      ]
    },
    {
      "cell_type": "code",
      "metadata": {
        "id": "JiQrzh344TSN",
        "colab_type": "code",
        "colab": {
          "base_uri": "https://localhost:8080/",
          "height": 34
        },
        "outputId": "8eb41b88-b504-4527-ad01-1adc1f054e44"
      },
      "source": [
        "temperatures[3]"
      ],
      "execution_count": null,
      "outputs": [
        {
          "output_type": "execute_result",
          "data": {
            "text/plain": [
              "35"
            ]
          },
          "metadata": {
            "tags": []
          },
          "execution_count": 34
        }
      ]
    },
    {
      "cell_type": "markdown",
      "metadata": {
        "id": "bnG5l3DD4TSP",
        "colab_type": "text"
      },
      "source": [
        "and a two dimensional one:"
      ]
    },
    {
      "cell_type": "code",
      "metadata": {
        "id": "cBfCA4Q54TSQ",
        "colab_type": "code",
        "colab": {
          "base_uri": "https://localhost:8080/",
          "height": 34
        },
        "outputId": "0a22d3e3-eed7-4fbd-a9e7-d31e64befcd9"
      },
      "source": [
        "sample = np.array([[10, 20, 30], [40, 50, 60]])\n",
        "sample[0][1]"
      ],
      "execution_count": null,
      "outputs": [
        {
          "output_type": "execute_result",
          "data": {
            "text/plain": [
              "20"
            ]
          },
          "metadata": {
            "tags": []
          },
          "execution_count": 35
        }
      ]
    },
    {
      "cell_type": "markdown",
      "metadata": {
        "id": "cTA5rlsL4TST",
        "colab_type": "text"
      },
      "source": [
        "For numpy ndarrays we can also use a comma to separate the indices of multi-dimensional arrays:"
      ]
    },
    {
      "cell_type": "code",
      "metadata": {
        "id": "YeJmDRvp4TSU",
        "colab_type": "code",
        "colab": {
          "base_uri": "https://localhost:8080/",
          "height": 34
        },
        "outputId": "f9b42ecb-ff7e-45e6-944e-83a0c049b2d9"
      },
      "source": [
        "sample[1,2]"
      ],
      "execution_count": null,
      "outputs": [
        {
          "output_type": "execute_result",
          "data": {
            "text/plain": [
              "60"
            ]
          },
          "metadata": {
            "tags": []
          },
          "execution_count": 36
        }
      ]
    },
    {
      "cell_type": "markdown",
      "metadata": {
        "id": "oCo-L8Vm4TSW",
        "colab_type": "text"
      },
      "source": [
        "And, like Python you can also get a slice of an array. First, here is the basic Python example:"
      ]
    },
    {
      "cell_type": "code",
      "metadata": {
        "id": "KWM1MFGP4TSW",
        "colab_type": "code",
        "colab": {
          "base_uri": "https://localhost:8080/",
          "height": 34
        },
        "outputId": "c5576acc-2557-42b2-da1c-77229b770a23"
      },
      "source": [
        "a = [10, 20, 30, 40, 50, 60]\n",
        "b = a[1:4]\n",
        "b"
      ],
      "execution_count": null,
      "outputs": [
        {
          "output_type": "execute_result",
          "data": {
            "text/plain": [
              "[20, 30, 40]"
            ]
          },
          "metadata": {
            "tags": []
          },
          "execution_count": 37
        }
      ]
    },
    {
      "cell_type": "markdown",
      "metadata": {
        "id": "FbUhm5HP4TSZ",
        "colab_type": "text"
      },
      "source": [
        "and the similar numpy example:"
      ]
    },
    {
      "cell_type": "code",
      "metadata": {
        "id": "OqgPubtu4TSZ",
        "colab_type": "code",
        "colab": {
          "base_uri": "https://localhost:8080/",
          "height": 34
        },
        "outputId": "c9c741e7-6a95-4dc6-f0f9-d1fa8a044599"
      },
      "source": [
        "aarr = np.array(a)\n",
        "barr = aarr[1:4]\n",
        "barr"
      ],
      "execution_count": null,
      "outputs": [
        {
          "output_type": "execute_result",
          "data": {
            "text/plain": [
              "array([20, 30, 40])"
            ]
          },
          "metadata": {
            "tags": []
          },
          "execution_count": 38
        }
      ]
    },
    {
      "cell_type": "markdown",
      "metadata": {
        "id": "zB0cQ7YK4TSc",
        "colab_type": "text"
      },
      "source": [
        "### Something  wacky to remember\n",
        "But there is a difference between Python arrays and numpy ndarrays. If I alter the array `b` in Python the orginal `a` array is not altered:"
      ]
    },
    {
      "cell_type": "code",
      "metadata": {
        "id": "zxGHoP304TSc",
        "colab_type": "code",
        "colab": {}
      },
      "source": [
        "b[1] = b[1] + 5"
      ],
      "execution_count": null,
      "outputs": []
    },
    {
      "cell_type": "code",
      "metadata": {
        "id": "8M3L-iVm4TSf",
        "colab_type": "code",
        "colab": {
          "base_uri": "https://localhost:8080/",
          "height": 34
        },
        "outputId": "bd69ef92-d086-4421-a866-f4ad86e476a9"
      },
      "source": [
        "b"
      ],
      "execution_count": null,
      "outputs": [
        {
          "output_type": "execute_result",
          "data": {
            "text/plain": [
              "[20, 35, 40]"
            ]
          },
          "metadata": {
            "tags": []
          },
          "execution_count": 40
        }
      ]
    },
    {
      "cell_type": "code",
      "metadata": {
        "id": "7iKhgYtY4TSj",
        "colab_type": "code",
        "colab": {
          "base_uri": "https://localhost:8080/",
          "height": 34
        },
        "outputId": "fa7fd562-71ce-46ac-e168-5c364b4206bc"
      },
      "source": [
        "a"
      ],
      "execution_count": null,
      "outputs": [
        {
          "output_type": "execute_result",
          "data": {
            "text/plain": [
              "[10, 20, 30, 40, 50, 60]"
            ]
          },
          "metadata": {
            "tags": []
          },
          "execution_count": 41
        }
      ]
    },
    {
      "cell_type": "markdown",
      "metadata": {
        "id": "u8J1v5Kc4TSm",
        "colab_type": "text"
      },
      "source": [
        "but if we do the same in numpy:"
      ]
    },
    {
      "cell_type": "code",
      "metadata": {
        "id": "8pcO_LMO4TSn",
        "colab_type": "code",
        "colab": {}
      },
      "source": [
        "barr[1] = barr[1] + 5"
      ],
      "execution_count": null,
      "outputs": []
    },
    {
      "cell_type": "code",
      "metadata": {
        "id": "-Dr09sFD4TSq",
        "colab_type": "code",
        "colab": {
          "base_uri": "https://localhost:8080/",
          "height": 34
        },
        "outputId": "ea20d981-d681-4068-9f24-5126e8c3acc4"
      },
      "source": [
        "barr"
      ],
      "execution_count": null,
      "outputs": [
        {
          "output_type": "execute_result",
          "data": {
            "text/plain": [
              "array([20, 35, 40])"
            ]
          },
          "metadata": {
            "tags": []
          },
          "execution_count": 43
        }
      ]
    },
    {
      "cell_type": "code",
      "metadata": {
        "id": "G6NaVQ374TS2",
        "colab_type": "code",
        "colab": {
          "base_uri": "https://localhost:8080/",
          "height": 34
        },
        "outputId": "9805cf81-6a57-428a-ba58-5f04f636c116"
      },
      "source": [
        "aarr"
      ],
      "execution_count": null,
      "outputs": [
        {
          "output_type": "execute_result",
          "data": {
            "text/plain": [
              "array([10, 20, 35, 40, 50, 60])"
            ]
          },
          "metadata": {
            "tags": []
          },
          "execution_count": 44
        }
      ]
    },
    {
      "cell_type": "markdown",
      "metadata": {
        "id": "J3W6C-BX4TS5",
        "colab_type": "text"
      },
      "source": [
        "we see that the original array is altered since we modified the slice. This may seem wacky to you, or maybe it doesn't. In any case, it is something you will get used to. For now, just be aware of this. \n",
        "\n",
        "## functions on arrays\n",
        "\n",
        "Numpy has a wide range of array functons. Here is just a sample.\n",
        "\n",
        "### Unary functions\n",
        "\n",
        "#### absolute value"
      ]
    },
    {
      "cell_type": "code",
      "metadata": {
        "id": "ZTy8SO7E4TS5",
        "colab_type": "code",
        "colab": {
          "base_uri": "https://localhost:8080/",
          "height": 34
        },
        "outputId": "0762b2b4-f8f8-408a-c72b-c9998cdc32f7"
      },
      "source": [
        "arr = np.array([-2, 12, -25, 0])\n",
        "arr2 = np.abs(arr)\n",
        "arr2"
      ],
      "execution_count": null,
      "outputs": [
        {
          "output_type": "execute_result",
          "data": {
            "text/plain": [
              "array([ 2, 12, 25,  0])"
            ]
          },
          "metadata": {
            "tags": []
          },
          "execution_count": 45
        }
      ]
    },
    {
      "cell_type": "code",
      "metadata": {
        "id": "NQhPY0IC4TS9",
        "colab_type": "code",
        "colab": {
          "base_uri": "https://localhost:8080/",
          "height": 52
        },
        "outputId": "280d189c-0b2c-4eb8-e14b-03fee079dfb9"
      },
      "source": [
        "arr = np.array([[-2, 12], [-25, 0]])\n",
        "arr2 = np.abs(arr)\n",
        "arr2               "
      ],
      "execution_count": null,
      "outputs": [
        {
          "output_type": "execute_result",
          "data": {
            "text/plain": [
              "array([[ 2, 12],\n",
              "       [25,  0]])"
            ]
          },
          "metadata": {
            "tags": []
          },
          "execution_count": 46
        }
      ]
    },
    {
      "cell_type": "markdown",
      "metadata": {
        "id": "cwRGxNtR4TTA",
        "colab_type": "text"
      },
      "source": [
        "#### square"
      ]
    },
    {
      "cell_type": "code",
      "metadata": {
        "id": "BNKQ7oqL4TTA",
        "colab_type": "code",
        "colab": {
          "base_uri": "https://localhost:8080/",
          "height": 34
        },
        "outputId": "e5a8f52f-7659-4291-c165-649df93b45f7"
      },
      "source": [
        "arr = np.array([-1, 2, -3, 4])\n",
        "arr2 = np.square(arr)\n",
        "arr2"
      ],
      "execution_count": null,
      "outputs": [
        {
          "output_type": "execute_result",
          "data": {
            "text/plain": [
              "array([ 1,  4,  9, 16])"
            ]
          },
          "metadata": {
            "tags": []
          },
          "execution_count": 47
        }
      ]
    },
    {
      "cell_type": "markdown",
      "metadata": {
        "id": "NL9ze1dX4TTD",
        "colab_type": "text"
      },
      "source": [
        "#### squareroot"
      ]
    },
    {
      "cell_type": "code",
      "metadata": {
        "id": "6Dy5i6tH4TTE",
        "colab_type": "code",
        "colab": {
          "base_uri": "https://localhost:8080/",
          "height": 52
        },
        "outputId": "ad6706a8-0ed2-4e23-ffea-b8f2021208ef"
      },
      "source": [
        "arr = np.array([[4, 9], [16, 25]])\n",
        "arr2 = np.sqrt(arr)\n",
        "arr2"
      ],
      "execution_count": null,
      "outputs": [
        {
          "output_type": "execute_result",
          "data": {
            "text/plain": [
              "array([[2., 3.],\n",
              "       [4., 5.]])"
            ]
          },
          "metadata": {
            "tags": []
          },
          "execution_count": 49
        }
      ]
    },
    {
      "cell_type": "markdown",
      "metadata": {
        "id": "jocFvG4H4TTH",
        "colab_type": "text"
      },
      "source": [
        "## Binary functions\n",
        "\n",
        "#### add /subtract / multiply / divide\n"
      ]
    },
    {
      "cell_type": "code",
      "metadata": {
        "id": "yg1S-eRY4TTH",
        "colab_type": "code",
        "colab": {
          "base_uri": "https://localhost:8080/",
          "height": 52
        },
        "outputId": "e5823686-e18f-4bf5-bc86-2b10edf4459f"
      },
      "source": [
        "arr1 = np.array([[10, 20], [30, 40]])\n",
        "arr2 = np.array([[1, 2], [3, 4]])\n",
        "np.add(arr1, arr2)"
      ],
      "execution_count": null,
      "outputs": [
        {
          "output_type": "execute_result",
          "data": {
            "text/plain": [
              "array([[11, 22],\n",
              "       [33, 44]])"
            ]
          },
          "metadata": {
            "tags": []
          },
          "execution_count": 50
        }
      ]
    },
    {
      "cell_type": "code",
      "metadata": {
        "id": "mF8WsRV34TTJ",
        "colab_type": "code",
        "colab": {
          "base_uri": "https://localhost:8080/",
          "height": 52
        },
        "outputId": "53288484-8154-45a9-a6e0-2e7edd9043e6"
      },
      "source": [
        "np.subtract(arr1, arr2)"
      ],
      "execution_count": null,
      "outputs": [
        {
          "output_type": "execute_result",
          "data": {
            "text/plain": [
              "array([[ 9, 18],\n",
              "       [27, 36]])"
            ]
          },
          "metadata": {
            "tags": []
          },
          "execution_count": 51
        }
      ]
    },
    {
      "cell_type": "code",
      "metadata": {
        "id": "moQ9RA-M4TTL",
        "colab_type": "code",
        "colab": {
          "base_uri": "https://localhost:8080/",
          "height": 52
        },
        "outputId": "63a8005a-37ca-4568-ae57-381cce486cd2"
      },
      "source": [
        "np.multiply(arr1, arr2)"
      ],
      "execution_count": null,
      "outputs": [
        {
          "output_type": "execute_result",
          "data": {
            "text/plain": [
              "array([[ 10,  40],\n",
              "       [ 90, 160]])"
            ]
          },
          "metadata": {
            "tags": []
          },
          "execution_count": 52
        }
      ]
    },
    {
      "cell_type": "code",
      "metadata": {
        "id": "CT42qcyI4TTN",
        "colab_type": "code",
        "colab": {
          "base_uri": "https://localhost:8080/",
          "height": 52
        },
        "outputId": "483fe5f0-4bcb-4486-ace0-33872d3c690b"
      },
      "source": [
        "np.divide(arr1, arr2)"
      ],
      "execution_count": null,
      "outputs": [
        {
          "output_type": "execute_result",
          "data": {
            "text/plain": [
              "array([[10., 10.],\n",
              "       [10., 10.]])"
            ]
          },
          "metadata": {
            "tags": []
          },
          "execution_count": 53
        }
      ]
    },
    {
      "cell_type": "markdown",
      "metadata": {
        "id": "7YaWtsLn4TTP",
        "colab_type": "text"
      },
      "source": [
        "#### maximum / minimum\n"
      ]
    },
    {
      "cell_type": "code",
      "metadata": {
        "id": "8PmZRIZ24TTQ",
        "colab_type": "code",
        "colab": {
          "base_uri": "https://localhost:8080/",
          "height": 52
        },
        "outputId": "83c59ddb-309b-419e-fb7d-8f43a0e2047e"
      },
      "source": [
        "arr1 = np.array([[10, 2], [3, 40]])\n",
        "arr2 = np.array([[1, 20], [30, 4]])\n",
        "np.maximum(arr1, arr2)"
      ],
      "execution_count": null,
      "outputs": [
        {
          "output_type": "execute_result",
          "data": {
            "text/plain": [
              "array([[10, 20],\n",
              "       [30, 40]])"
            ]
          },
          "metadata": {
            "tags": []
          },
          "execution_count": 54
        }
      ]
    },
    {
      "cell_type": "markdown",
      "metadata": {
        "id": "HZxz8Gwg4TTR",
        "colab_type": "text"
      },
      "source": [
        "#### these are just examples. There are more unary and binary functions"
      ]
    },
    {
      "cell_type": "markdown",
      "metadata": {
        "id": "DqNkxaE64TTS",
        "colab_type": "text"
      },
      "source": [
        "## Numpy Uber\n",
        "lets say I have Uber drivers at various intersections around Austin. I will represent that as a set of x,y coordinates.\n",
        "\n",
        " | Driver |xPos | yPos |\n",
        " | :---: | :---: | :---: |\n",
        " | Ann | 4 | 5 |\n",
        " | Clara | 6 | 6 |\n",
        " | Dora | 3 | 1 |\n",
        " | Erica | 9 | 5 |\n",
        " \n",
        " \n",
        " Now I would like to find the closest driver to a customer who is at 6, 3.\n",
        " And to further define *closest* I am going to use what is called **Manhattan Distance**. Roughly put, Manhattan distance is distance if you followed streets. Ann, for example, is two blocks West of our customer and two blocks north. So the Manhattan distance from Ann to our customer is `2+2` or `4`. \n",
        " \n",
        " First, to make things easy (and because the data in a numpy array must be of the same type), I will represent the x and y positions in one numpy array and the driver names in another:"
      ]
    },
    {
      "cell_type": "code",
      "metadata": {
        "id": "bOwnt_ez4TTS",
        "colab_type": "code",
        "colab": {
          "base_uri": "https://localhost:8080/",
          "height": 86
        },
        "outputId": "be7235ea-7086-4dc9-e257-18b94430440a"
      },
      "source": [
        "locations = np.array([[4, 5], [6, 6], [3, 1], [9,5]])\n",
        "locations"
      ],
      "execution_count": null,
      "outputs": [
        {
          "output_type": "execute_result",
          "data": {
            "text/plain": [
              "array([[4, 5],\n",
              "       [6, 6],\n",
              "       [3, 1],\n",
              "       [9, 5]])"
            ]
          },
          "metadata": {
            "tags": []
          },
          "execution_count": 55
        }
      ]
    },
    {
      "cell_type": "code",
      "metadata": {
        "id": "OPUxIJM74TTV",
        "colab_type": "code",
        "colab": {}
      },
      "source": [
        "drivers = np.array([\"Ann\", \"Clara\", \"Dora\", \"Erica\"])"
      ],
      "execution_count": null,
      "outputs": []
    },
    {
      "cell_type": "markdown",
      "metadata": {
        "id": "ud-9mlPa4TTY",
        "colab_type": "text"
      },
      "source": [
        "Our customer is at"
      ]
    },
    {
      "cell_type": "code",
      "metadata": {
        "id": "KuWfgrji4TTY",
        "colab_type": "code",
        "colab": {}
      },
      "source": [
        "cust = np.array([6, 3])"
      ],
      "execution_count": null,
      "outputs": []
    },
    {
      "cell_type": "markdown",
      "metadata": {
        "id": "90d5ltWQ4TTa",
        "colab_type": "text"
      },
      "source": [
        "now we are going to figure out the distance between each of our drivers and the customer"
      ]
    },
    {
      "cell_type": "code",
      "metadata": {
        "id": "D21R_EQw4TTa",
        "colab_type": "code",
        "colab": {
          "base_uri": "https://localhost:8080/",
          "height": 86
        },
        "outputId": "396fe7b2-ea91-44a3-acc2-f3105af947a0"
      },
      "source": [
        "xydiff = locations - cust\n",
        "xydiff"
      ],
      "execution_count": null,
      "outputs": [
        {
          "output_type": "execute_result",
          "data": {
            "text/plain": [
              "array([[-2,  2],\n",
              "       [ 0,  3],\n",
              "       [-3, -2],\n",
              "       [ 3,  2]])"
            ]
          },
          "metadata": {
            "tags": []
          },
          "execution_count": 58
        }
      ]
    },
    {
      "cell_type": "markdown",
      "metadata": {
        "id": "f6V695L94TTg",
        "colab_type": "text"
      },
      "source": [
        "NOTE: displaying the results with `xydiff` isn't a necessary step. I just like seeing intermediate results.\n",
        "\n",
        "Ok. now I am goint to sum the absolute values:"
      ]
    },
    {
      "cell_type": "code",
      "metadata": {
        "id": "YbR8vtU24TTg",
        "colab_type": "code",
        "colab": {
          "base_uri": "https://localhost:8080/",
          "height": 34
        },
        "outputId": "728b4065-2614-4099-d57f-21a06b3505f7"
      },
      "source": [
        "distances =np.abs(xydiff).sum(axis = 1)\n",
        "distances"
      ],
      "execution_count": null,
      "outputs": [
        {
          "output_type": "execute_result",
          "data": {
            "text/plain": [
              "array([4, 3, 5, 5])"
            ]
          },
          "metadata": {
            "tags": []
          },
          "execution_count": 59
        }
      ]
    },
    {
      "cell_type": "markdown",
      "metadata": {
        "id": "Vm25fsDK4TTi",
        "colab_type": "text"
      },
      "source": [
        "So the output is the array `[4, 3, 5, 5]` which shows that Ann is 4 away from our customer; Clara is 3 away and so on.\n",
        "\n",
        "Now I am going to sort these using `argsort`:"
      ]
    },
    {
      "cell_type": "code",
      "metadata": {
        "id": "-al5gmO04TTi",
        "colab_type": "code",
        "colab": {
          "base_uri": "https://localhost:8080/",
          "height": 34
        },
        "outputId": "6187e2bf-1ab2-43f6-f268-f92795fbcc0c"
      },
      "source": [
        "sorted = np.argsort(distances)\n",
        "sorted"
      ],
      "execution_count": null,
      "outputs": [
        {
          "output_type": "execute_result",
          "data": {
            "text/plain": [
              "array([1, 0, 2, 3])"
            ]
          },
          "metadata": {
            "tags": []
          },
          "execution_count": 60
        }
      ]
    },
    {
      "cell_type": "markdown",
      "metadata": {
        "id": "DNDc7Ig94TTk",
        "colab_type": "text"
      },
      "source": [
        "`argsort` returns an array of sorted indices. So the element at position 1 is the smallest followed by the element at position 0 and so on.\n",
        "\n",
        "Next, I am going to get the first element of that array (in this case 1) and find the name of the driver at that position in the `drivers` array"
      ]
    },
    {
      "cell_type": "code",
      "metadata": {
        "id": "z4jseLfS4TTk",
        "colab_type": "code",
        "colab": {
          "base_uri": "https://localhost:8080/",
          "height": 35
        },
        "outputId": "d7987f80-5e41-468d-93b6-b3ce6c88d57e"
      },
      "source": [
        "drivers[sorted[0]]"
      ],
      "execution_count": null,
      "outputs": [
        {
          "output_type": "execute_result",
          "data": {
            "application/vnd.google.colaboratory.intrinsic+json": {
              "type": "string"
            },
            "text/plain": [
              "'Clara'"
            ]
          },
          "metadata": {
            "tags": []
          },
          "execution_count": 61
        }
      ]
    },
    {
      "cell_type": "markdown",
      "metadata": {
        "id": "bjfRcs3W4TTn",
        "colab_type": "text"
      },
      "source": [
        "<h3 style=\"color:red\">Q2. You Try</h3>\n",
        "<span style=\"color:red\">Can you put all the above in a function. that takes 3 arguments, the location array, the array containing the names of the drivers, and the array containing the location of the customer. It should return the name of the closest driver.</span>\n"
      ]
    },
    {
      "cell_type": "code",
      "metadata": {
        "id": "REW2RFiT4TTn",
        "colab_type": "code",
        "colab": {
          "base_uri": "https://localhost:8080/",
          "height": 34
        },
        "outputId": "4f233a5b-b91a-47e0-b7e0-8fab268e40bb"
      },
      "source": [
        "def findDriver(distanceArr, driversArr, customerArr):\n",
        "   result = ''\n",
        "   ### put your code here\n",
        "   locdiff = distanceArr - customerArr\n",
        "   abs = np.abs(locdiff).sum(axis=1)\n",
        "   sort= np.argsort(abs)\n",
        "   result = drivers[sorted[0]]\n",
        "   return result\n",
        "print(findDriver(locations, drivers, cust)) # this should return Clara"
      ],
      "execution_count": null,
      "outputs": [
        {
          "output_type": "stream",
          "text": [
            "Clara\n"
          ],
          "name": "stdout"
        }
      ]
    },
    {
      "cell_type": "markdown",
      "metadata": {
        "id": "ksRjVA4w4TTp",
        "colab_type": "text"
      },
      "source": [
        "### CONGRATULATIONS\n",
        "\n",
        "Even though this is just an intro to Numpy, I am going to throw some math at you. So far we have been looking at a two dimensional example, x and y (or North-South and East-West) and our distance formula for the distance, Dist between Ann, A and Customer C is\n",
        "\n",
        "$$ DIST_{AC} = |A_x - C_x | + |A_y - C_y | $$\n",
        "\n",
        "Now I am going to warp this a bit. In this example, each driver is represented by an array (as is the customer) So, Ann is represented by `[1,2]` and the customer by `[3,4]`. So Ann's 0th element is 1 and the customer's 0th element is 3. And, sorry, computer science people start counting at 0 but math people (and all other normal people) start at 1 so we  can rewrite the above formula as:\n",
        "\n",
        "$$ DIST_{AC} = |A_1 - C_1 | + |A_2 - C_2 | $$\n",
        "\n",
        "That's the distance formula for Ann and the Customer. We can make the formula by saying the distance between and two people, let's call them *x* and *y* is\n",
        "\n",
        "\n",
        "$$ DIST_{xy} = |x_1 - y_1 | + |x_2 - y_2 | $$\n",
        "\n",
        "That is the formula for  2 dimensional Manhattan Distance. We can imagine a three dimensional case.  \n",
        "\n",
        "$$ DIST_{xy} = |x_1 - y_1 | + |x_2 - y_2 | + |x_3 - y_3 | $$\n",
        "\n",
        "and we can generalize the formula to the n-dimensional case.\n",
        " \n",
        "$$ DIST_{xy}=\\sum_{i=1}^n |x_i - y_i| $$\n",
        "\n",
        "Just in time for a five dimensional example:\n",
        "\n",
        "\n",
        "# The Amazing 5D Music example\n",
        "\n",
        "Guests went into a listening booth and rated the following tunes:\n",
        "\n",
        "* [Janelle Monae Tightrope](https://www.youtube.com/watch?v=pwnefUaKCbc)\n",
        "* [Major Lazer - Cold Water](https://www.youtube.com/watch?v=nBtDsQ4fhXY)\n",
        "* [Tim McGraw - Humble & Kind](https://www.youtube.com/watch?v=awzNHuGqoMc)\n",
        "* [Maren Morris - My Church](https://www.youtube.com/watch?v=ouWQ25O-Mcg)\n",
        "* [Hailee Steinfeld - Starving](https://www.youtube.com/watch?v=xwjwCFZpdns)\n",
        "\n",
        "\n",
        "Here are the results:\n",
        "\n",
        "| Guest  | Janelle Monae  | Major Lazer  | Tim McGraw  |  Maren Morris | Hailee Steinfeld| \n",
        "|---|---|---|---|---|---|\n",
        "|  Ann | 4  |  5 | 2  |  1 | 3 |\n",
        "| Ben  |  3 |  1 |  5 | 4  | 2|\n",
        "| Jordyn  | 5  |  5 | 2  | 2  | 3|\n",
        "|  Sam | 4 | 1 | 4 | 4 | 1|\n",
        "| Hyunseo | 1 | 1 | 5 | 4 | 1 |\n",
        "| Ahmed | 4 | 5 | 3 |  3 | 1 |\n",
        "\n",
        "So Ann, for example, really liked Major Lazer and Janelle Monae but didn't care much for Maren Morris.\n",
        "\n",
        "Let's set up a few numpy arrays.\n"
      ]
    },
    {
      "cell_type": "code",
      "metadata": {
        "id": "5Yu4FNGe4TTp",
        "colab_type": "code",
        "colab": {}
      },
      "source": [
        "customers = np.array([[4, 5, 2, 1, 3],\n",
        "                      [3, 1, 5, 4, 2],\n",
        "                      [5, 5, 2, 2, 3],\n",
        "                      [4, 1, 4, 4, 1], \n",
        "                      [1, 1, 5, 4, 1],\n",
        "                      [4, 5, 3, 3, 1]])\n",
        "\n",
        "customerNames = np.array([\"Ann\", \"Ben\", 'Jordyn', \"Sam\", \"Hyunseo\", \"Ahmed\"])\n",
        "\n"
      ],
      "execution_count": null,
      "outputs": []
    },
    {
      "cell_type": "markdown",
      "metadata": {
        "id": "zlFYIoux4TTs",
        "colab_type": "text"
      },
      "source": [
        "Now let's set up a few new customers:"
      ]
    },
    {
      "cell_type": "code",
      "metadata": {
        "id": "qFUQO1pI4TTs",
        "colab_type": "code",
        "colab": {}
      },
      "source": [
        "mikaela = np.array([3, 2, 4, 5, 4])\n",
        "brandon = np.array([4, 5, 1, 2, 3])"
      ],
      "execution_count": null,
      "outputs": []
    },
    {
      "cell_type": "markdown",
      "metadata": {
        "id": "sWySn6uw4TTu",
        "colab_type": "text"
      },
      "source": [
        "Now we would like to determine  which of our current customers is closest to Mikaela and which to Brandon.\n",
        "<h3 style=\"color:red\">Q3. You Try</h3>\n",
        "<span style=\"color:red\">Can you write a function findClosest that takes 3 arguments: customers, customerNames, and an array representing one customer's ratings and returns the name of the closest customer?</span>\n",
        "\n",
        "Let's break this down a bit.\n",
        "\n",
        "1. Which line in the Numpy Uber section above will create a new array which is the result of subtracting the Mikaela array from each row of the customers array resulting in\n",
        "\n",
        "```\n",
        "array([[ 1,  3, -2, -4, -1],\n",
        "       [ 0, -1,  1, -1, -2],\n",
        "       [ 2,  3, -2, -3, -1],\n",
        "       [ 1, -1,  0, -1, -3],\n",
        "       [-2, -1,  1, -1, -3],\n",
        "       [ 1,  3, -1, -2, -3]])\n",
        "       ```\n"
      ]
    },
    {
      "cell_type": "code",
      "metadata": {
        "id": "lxtqsElA4TTu",
        "colab_type": "code",
        "colab": {
          "base_uri": "https://localhost:8080/",
          "height": 121
        },
        "outputId": "c3ff3803-56d3-4f35-cbed-df778d9653bf"
      },
      "source": [
        "# TODO\n",
        "newarr = customers - mikaela\n",
        "newarr\n"
      ],
      "execution_count": null,
      "outputs": [
        {
          "output_type": "execute_result",
          "data": {
            "text/plain": [
              "array([[ 1,  3, -2, -4, -1],\n",
              "       [ 0, -1,  1, -1, -2],\n",
              "       [ 2,  3, -2, -3, -1],\n",
              "       [ 1, -1,  0, -1, -3],\n",
              "       [-2, -1,  1, -1, -3],\n",
              "       [ 1,  3, -1, -2, -3]])"
            ]
          },
          "metadata": {
            "tags": []
          },
          "execution_count": 90
        }
      ]
    },
    {
      "cell_type": "markdown",
      "metadata": {
        "id": "HSOlrN-44TTw",
        "colab_type": "text"
      },
      "source": [
        "2. Which line above will take the array you created and generate a single integer distance for each row representing how far away that row is from Mikaela?  The results will look like:\n",
        "\n",
        "```\n",
        "    array([11,  5, 11,  6,  8, 10])\n",
        "```"
      ]
    },
    {
      "cell_type": "code",
      "metadata": {
        "id": "CAZi6_uk4TTw",
        "colab_type": "code",
        "colab": {
          "base_uri": "https://localhost:8080/",
          "height": 34
        },
        "outputId": "5b9dcabb-0245-4b4e-a583-b8dca1f6044c"
      },
      "source": [
        "# TO DO \n",
        "newarr = np.abs(newarr)\n",
        "newarr = np.sum(newarr, axis=1)\n",
        "newarr"
      ],
      "execution_count": null,
      "outputs": [
        {
          "output_type": "execute_result",
          "data": {
            "text/plain": [
              "array([11,  5, 11,  6,  8, 10])"
            ]
          },
          "metadata": {
            "tags": []
          },
          "execution_count": 92
        }
      ]
    },
    {
      "cell_type": "markdown",
      "metadata": {
        "id": "nTbgFrTv4TTx",
        "colab_type": "text"
      },
      "source": [
        "Finally, we want a sorted array of indices, the zeroth element of that array will be the closest row to Mikaela, the next element will be the next closest and so on. The result should be\n",
        "\n",
        "```\n",
        "array([1, 3, 4, 5, 0, 2])\n",
        "```\n"
      ]
    },
    {
      "cell_type": "code",
      "metadata": {
        "id": "X67C7RuR4TTy",
        "colab_type": "code",
        "colab": {
          "base_uri": "https://localhost:8080/",
          "height": 34
        },
        "outputId": "3ef180d4-858d-4d6a-ad83-a8c85fd73453"
      },
      "source": [
        "# TO DO\n",
        "sort = np.argsort(newarr)\n",
        "sort\n"
      ],
      "execution_count": null,
      "outputs": [
        {
          "output_type": "execute_result",
          "data": {
            "text/plain": [
              "array([1, 3, 4, 5, 0, 2])"
            ]
          },
          "metadata": {
            "tags": []
          },
          "execution_count": 94
        }
      ]
    },
    {
      "cell_type": "markdown",
      "metadata": {
        "id": "GOm6y4md4TT0",
        "colab_type": "text"
      },
      "source": [
        "Finally we need the name of the person that is the closest. "
      ]
    },
    {
      "cell_type": "code",
      "metadata": {
        "id": "8-0TbyJA4TT0",
        "colab_type": "code",
        "colab": {
          "base_uri": "https://localhost:8080/",
          "height": 35
        },
        "outputId": "89808845-916d-4889-9ce8-ded295703c39"
      },
      "source": [
        "# TO DO\n",
        "result = customerNames[sort[0]]\n",
        "result"
      ],
      "execution_count": null,
      "outputs": [
        {
          "output_type": "execute_result",
          "data": {
            "application/vnd.google.colaboratory.intrinsic+json": {
              "type": "string"
            },
            "text/plain": [
              "'Ben'"
            ]
          },
          "metadata": {
            "tags": []
          },
          "execution_count": 95
        }
      ]
    },
    {
      "cell_type": "markdown",
      "metadata": {
        "id": "9a5Hx8mE4TT3",
        "colab_type": "text"
      },
      "source": [
        "Okay, time to put it all together. Can you combine all the code you wrote above to finish the following function? So x is the new person and we want to find the closest customer to x."
      ]
    },
    {
      "cell_type": "code",
      "metadata": {
        "id": "DDeeSYhh4TT3",
        "colab_type": "code",
        "colab": {
          "base_uri": "https://localhost:8080/",
          "height": 52
        },
        "outputId": "193aa8d1-30a8-4f47-ac65-d69504d0027d"
      },
      "source": [
        "def findClosest(customers, customerNames, x):\n",
        "   # TO DO\n",
        "   newarr = customers - x\n",
        "   abs = np.abs(newarr)\n",
        "   sum = np.sum(abs, axis=1)\n",
        "   sort = np.argsort(sum)\n",
        "   result = customerNames[sort[0]]\n",
        "   return result\n",
        "\n",
        "\n",
        "print(findClosest(customers, customerNames, mikaela)) # Should print Ben\n",
        "print(findClosest(customers, customerNames, brandon)) # Should print Ann"
      ],
      "execution_count": null,
      "outputs": [
        {
          "output_type": "stream",
          "text": [
            "Ben\n",
            "Ann\n"
          ],
          "name": "stdout"
        }
      ]
    },
    {
      "cell_type": "markdown",
      "metadata": {
        "id": "psSxCWmM4TT5",
        "colab_type": "text"
      },
      "source": [
        "## Numpy Amazon\n",
        "\n",
        "We are going to start with the same array we did way up above:\n",
        "\n",
        " \n",
        " | Drone |xPos | yPos |\n",
        " | :---: | :---: | :---: |\n",
        " | wing_1a | 4 | 5 |\n",
        " | wing_2a | 6 | 6 |\n",
        " | wing_3a | 3 | 1 |\n",
        " | wing_4a | 9 | 5 |\n",
        " \n",
        " But this time, instead of Uber drivers, think of these as positions of [Alphabet's Wing delivery drones](https://wing.com/). \n",
        " Now we would like to find the closest drone to a customer who is at 7, 1.\n",
        " \n",
        "With the previous example we used Manhattan Distance.  With drones, we can compute the distance as the crow flies -- or Euclidean Distance.  We probably learned how to do this way back in 7th grade when we learned the Pythagorean Theorem which states:\n",
        "\n",
        "$$c^2 = a^2 + b^2$$\n",
        "\n",
        "Where *c* is the hypotenuse and *a* and *b* are the two other sides. So, if we want to find *c*:\n",
        "\n",
        "$$c = \\sqrt{a^2 + b^2}$$\n",
        "\n",
        "\n",
        "If we want to find the distance between the drone and a customer, *x* and *y* in the formula becomes\n",
        "\n",
        "$$Dist_{xy} = \\sqrt{(x_1-y_1)^2 + (x_2-y_2)^2}$$\n",
        "\n",
        "and for `wing_1a` who is at `[4,5]` and our customer who is at `[7,1]` then the formula becomes:\n",
        "\n",
        "$$Dist_{xy} = \\sqrt{(x_1-y_1)^2 + (x_2-y_2)^2} = \\sqrt{(4-7)^2 + (5-1)^2} =\\sqrt{-3^2 + 4^2}  = \\sqrt{9 + 16} = \\sqrt{25} = 5$$\n",
        "\n",
        "Sweet!  And to generalize this distance formula:\n",
        "\n",
        "$$Dist_{xy} = \\sqrt{(x_1-y_1)^2 + (x_2-y_2)^2}$$\n",
        "\n",
        "to n-dimensions:\n",
        "\n",
        "$$Dist_{xy} = \\sum_{i=1}^n{\\sqrt{(x_i-y_i)^2}}$$\n",
        "\n",
        "\n",
        "\n",
        "\n",
        "<h4 style=\"color:red\">Q4. You Try</h3>\n",
        "<span style=\"color:red\">Can you write a function euclidean that takes 3 arguments: droneLocation, droneNames, and an array representing one customer's position and returns the name of the closest drone?</span>\n",
        "\n",
        "First, a helpful hint:\n"
      ]
    },
    {
      "cell_type": "code",
      "metadata": {
        "id": "y3fc10pZ4TT5",
        "colab_type": "code",
        "colab": {
          "base_uri": "https://localhost:8080/",
          "height": 34
        },
        "outputId": "f9f84e56-b86b-4795-f6e2-93576d2449f7"
      },
      "source": [
        "arr = np.array([-1, 2, -3, 4])\n",
        "arr2 = np.square(arr)\n",
        "arr2"
      ],
      "execution_count": null,
      "outputs": [
        {
          "output_type": "execute_result",
          "data": {
            "text/plain": [
              "array([ 1,  4,  9, 16])"
            ]
          },
          "metadata": {
            "tags": []
          },
          "execution_count": 107
        }
      ]
    },
    {
      "cell_type": "code",
      "metadata": {
        "id": "nEj8LchD4TT7",
        "colab_type": "code",
        "colab": {
          "base_uri": "https://localhost:8080/",
          "height": 35
        },
        "outputId": "47a95a15-e01a-40df-f55a-f62e23bbd502"
      },
      "source": [
        "locations = np.array([[4, 5], [6, 6], [3, 1], [9,5]])\n",
        "drivers = np.array([\"wing_1a\", \"wing_2a\", \"wing_3a\", \"wing_4a\"])\n",
        "cust = np.array([6, 3])\n",
        "\n",
        "def euclidean(droneLocation, droneNames, x):\n",
        "   result = ''\n",
        "   ### your code here   \n",
        "   diff = droneLocation - x\n",
        "   square = np.square(diff)\n",
        "   sum = np.sum(square, axis=1)\n",
        "   sqrt = np.sqrt(sum)\n",
        "   \n",
        "   sort = np.argsort(sqrt)\n",
        "   result = droneNames[sort[0]]\n",
        "   return result\n",
        "euclidean(locations, drivers, cust) "
      ],
      "execution_count": null,
      "outputs": [
        {
          "output_type": "execute_result",
          "data": {
            "application/vnd.google.colaboratory.intrinsic+json": {
              "type": "string"
            },
            "text/plain": [
              "'wing_1a'"
            ]
          },
          "metadata": {
            "tags": []
          },
          "execution_count": 121
        }
      ]
    },
    {
      "cell_type": "markdown",
      "metadata": {
        "id": "cQwC3Iie4TT9",
        "colab_type": "text"
      },
      "source": [
        "<h4 style=\"color:red\">Q5. You Try</h3>\n",
        "<span style=\"color:red\">try your code on the \"Amazing 5D Music example. Does it return the same person or a different one?\"</span>"
      ]
    },
    {
      "cell_type": "code",
      "metadata": {
        "id": "bPVLKKqJ4TT-",
        "colab_type": "code",
        "colab": {
          "base_uri": "https://localhost:8080/",
          "height": 52
        },
        "outputId": "f5911324-8e94-4f7e-890d-5324fb162ca7"
      },
      "source": [
        "#TBD\n",
        "customers = np.array([[4, 5, 2, 1, 3],\n",
        "                      [3, 1, 5, 4, 2],\n",
        "                      [5, 5, 2, 2, 3],\n",
        "                      [4, 1, 4, 4, 1], \n",
        "                      [1, 1, 5, 4, 1],\n",
        "                      [4, 5, 3, 3, 1]])\n",
        " \n",
        "customerNames = np.array([\"Ann\", \"Ben\", 'Jordyn', \"Sam\", \"Hyunseo\", \"Ahmed\"])\n",
        "mikaela = np.array([3, 2, 4, 5, 4])\n",
        "brandon = np.array([4, 5, 1, 2, 3])\n",
        "print(euclidean(customers, customerNames, mikaela))\n",
        "print(euclidean(customers, customerNames, brandon))\n",
        "#The same results"
      ],
      "execution_count": null,
      "outputs": [
        {
          "output_type": "stream",
          "text": [
            "Ben\n",
            "Ann\n"
          ],
          "name": "stdout"
        }
      ]
    }
  ]
}